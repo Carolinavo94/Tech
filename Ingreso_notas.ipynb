{
  "nbformat": 4,
  "nbformat_minor": 0,
  "metadata": {
    "colab": {
      "provenance": [],
      "authorship_tag": "ABX9TyPqjK4XcQ4BmX4D+Kl747Es",
      "include_colab_link": true
    },
    "kernelspec": {
      "name": "python3",
      "display_name": "Python 3"
    },
    "language_info": {
      "name": "python"
    }
  },
  "cells": [
    {
      "cell_type": "markdown",
      "metadata": {
        "id": "view-in-github",
        "colab_type": "text"
      },
      "source": [
        "<a href=\"https://colab.research.google.com/github/Carolinavo94/Tech/blob/main/Ingreso_notas.ipynb\" target=\"_parent\"><img src=\"https://colab.research.google.com/assets/colab-badge.svg\" alt=\"Open In Colab\"/></a>"
      ]
    },
    {
      "cell_type": "code",
      "execution_count": 37,
      "metadata": {
        "colab": {
          "base_uri": "https://localhost:8080/",
          "height": 582
        },
        "id": "mOwPTWpEY8Yj",
        "outputId": "72a8a438-a6fe-4970-a646-453745297ec9"
      },
      "outputs": [
        {
          "output_type": "stream",
          "name": "stdout",
          "text": [
            "Requirement already satisfied: colorama in /usr/local/lib/python3.10/dist-packages (0.4.6)\n",
            "Ingrese el nombre del estudiante: caro\n",
            "Ingrese las notas de: caro (de 0 a 5) para las siguientes materias:\n",
            "Nota de Matemáticas: 2\n",
            "Nota de Ciencia: 3\n",
            "Nota de Lenguaje: 4\n",
            "\n",
            "Promedio de las tres notas decaro es: 3.00\n",
            "Aprobado\n",
            "¿Desea ingresar otra Materia?\n",
            "1. Si\n",
            "2. No\n"
          ]
        },
        {
          "output_type": "error",
          "ename": "KeyboardInterrupt",
          "evalue": "Interrupted by user",
          "traceback": [
            "\u001b[0;31m---------------------------------------------------------------------------\u001b[0m",
            "\u001b[0;31mKeyboardInterrupt\u001b[0m                         Traceback (most recent call last)",
            "\u001b[0;32m<ipython-input-37-4f74db1f274d>\u001b[0m in \u001b[0;36m<cell line: 53>\u001b[0;34m()\u001b[0m\n\u001b[1;32m     57\u001b[0m       \u001b[0mprint\u001b[0m\u001b[0;34m(\u001b[0m\u001b[0;34m\"1. Si\"\u001b[0m\u001b[0;34m)\u001b[0m\u001b[0;34m\u001b[0m\u001b[0;34m\u001b[0m\u001b[0m\n\u001b[1;32m     58\u001b[0m       \u001b[0mprint\u001b[0m\u001b[0;34m(\u001b[0m\u001b[0;34m\"2. No\"\u001b[0m\u001b[0;34m)\u001b[0m\u001b[0;34m\u001b[0m\u001b[0;34m\u001b[0m\u001b[0m\n\u001b[0;32m---> 59\u001b[0;31m       \u001b[0mopcion\u001b[0m\u001b[0;34m=\u001b[0m\u001b[0mint\u001b[0m\u001b[0;34m(\u001b[0m\u001b[0minput\u001b[0m\u001b[0;34m(\u001b[0m\u001b[0;34m\"Ingrese una opción:  \"\u001b[0m\u001b[0;34m)\u001b[0m\u001b[0;34m)\u001b[0m\u001b[0;34m\u001b[0m\u001b[0;34m\u001b[0m\u001b[0m\n\u001b[0m\u001b[1;32m     60\u001b[0m       \u001b[0;32mif\u001b[0m \u001b[0mopcion\u001b[0m\u001b[0;34m==\u001b[0m\u001b[0;36m1\u001b[0m\u001b[0;34m:\u001b[0m\u001b[0;34m\u001b[0m\u001b[0;34m\u001b[0m\u001b[0m\n\u001b[1;32m     61\u001b[0m         \u001b[0mNueva_materia\u001b[0m\u001b[0;34m=\u001b[0m\u001b[0minput\u001b[0m\u001b[0;34m(\u001b[0m\u001b[0;34m\"Ingrese el nombre de la materia:  \"\u001b[0m\u001b[0;34m)\u001b[0m\u001b[0;34m\u001b[0m\u001b[0;34m\u001b[0m\u001b[0m\n",
            "\u001b[0;32m/usr/local/lib/python3.10/dist-packages/ipykernel/kernelbase.py\u001b[0m in \u001b[0;36mraw_input\u001b[0;34m(self, prompt)\u001b[0m\n\u001b[1;32m    849\u001b[0m                 \u001b[0;34m\"raw_input was called, but this frontend does not support input requests.\"\u001b[0m\u001b[0;34m\u001b[0m\u001b[0;34m\u001b[0m\u001b[0m\n\u001b[1;32m    850\u001b[0m             )\n\u001b[0;32m--> 851\u001b[0;31m         return self._input_request(str(prompt),\n\u001b[0m\u001b[1;32m    852\u001b[0m             \u001b[0mself\u001b[0m\u001b[0;34m.\u001b[0m\u001b[0m_parent_ident\u001b[0m\u001b[0;34m,\u001b[0m\u001b[0;34m\u001b[0m\u001b[0;34m\u001b[0m\u001b[0m\n\u001b[1;32m    853\u001b[0m             \u001b[0mself\u001b[0m\u001b[0;34m.\u001b[0m\u001b[0m_parent_header\u001b[0m\u001b[0;34m,\u001b[0m\u001b[0;34m\u001b[0m\u001b[0;34m\u001b[0m\u001b[0m\n",
            "\u001b[0;32m/usr/local/lib/python3.10/dist-packages/ipykernel/kernelbase.py\u001b[0m in \u001b[0;36m_input_request\u001b[0;34m(self, prompt, ident, parent, password)\u001b[0m\n\u001b[1;32m    893\u001b[0m             \u001b[0;32mexcept\u001b[0m \u001b[0mKeyboardInterrupt\u001b[0m\u001b[0;34m:\u001b[0m\u001b[0;34m\u001b[0m\u001b[0;34m\u001b[0m\u001b[0m\n\u001b[1;32m    894\u001b[0m                 \u001b[0;31m# re-raise KeyboardInterrupt, to truncate traceback\u001b[0m\u001b[0;34m\u001b[0m\u001b[0;34m\u001b[0m\u001b[0m\n\u001b[0;32m--> 895\u001b[0;31m                 \u001b[0;32mraise\u001b[0m \u001b[0mKeyboardInterrupt\u001b[0m\u001b[0;34m(\u001b[0m\u001b[0;34m\"Interrupted by user\"\u001b[0m\u001b[0;34m)\u001b[0m \u001b[0;32mfrom\u001b[0m \u001b[0;32mNone\u001b[0m\u001b[0;34m\u001b[0m\u001b[0;34m\u001b[0m\u001b[0m\n\u001b[0m\u001b[1;32m    896\u001b[0m             \u001b[0;32mexcept\u001b[0m \u001b[0mException\u001b[0m \u001b[0;32mas\u001b[0m \u001b[0me\u001b[0m\u001b[0;34m:\u001b[0m\u001b[0;34m\u001b[0m\u001b[0;34m\u001b[0m\u001b[0m\n\u001b[1;32m    897\u001b[0m                 \u001b[0mself\u001b[0m\u001b[0;34m.\u001b[0m\u001b[0mlog\u001b[0m\u001b[0;34m.\u001b[0m\u001b[0mwarning\u001b[0m\u001b[0;34m(\u001b[0m\u001b[0;34m\"Invalid Message:\"\u001b[0m\u001b[0;34m,\u001b[0m \u001b[0mexc_info\u001b[0m\u001b[0;34m=\u001b[0m\u001b[0;32mTrue\u001b[0m\u001b[0;34m)\u001b[0m\u001b[0;34m\u001b[0m\u001b[0;34m\u001b[0m\u001b[0m\n",
            "\u001b[0;31mKeyboardInterrupt\u001b[0m: Interrupted by user"
          ]
        }
      ],
      "source": [
        "!pip install colorama\n",
        "\n",
        "from colorama import Fore, Back, Style, init\n",
        "\n",
        "# Inicializa colorama\n",
        "init()\n",
        "\n",
        "\n",
        "# Función para calcular el rendimiento basado en el promedio\n",
        "def evaluar_rendimiento(promedio):\n",
        "    if promedio >= 4.5:\n",
        "        return Fore.GREEN + \"Excelente, aprobado con honores\" + Style.RESET_ALL\n",
        "    elif 3.0 <= promedio < 4.5:\n",
        "        return \"Aprobado\"\n",
        "    elif 2.0 <= promedio < 3.0:\n",
        "        return \"En recuperación, necesitas mejorar\"\n",
        "    else:\n",
        "        return Fore.RED + \"Reprobado\" + Style.RESET_ALL\n",
        "\n",
        "# Función principal del programa\n",
        "def main():\n",
        "    nombre = input(\"Ingrese el nombre del estudiante: \")\n",
        "    print(f\"Ingrese las notas de: {nombre} (de 0 a 5) para las siguientes materias:\")\n",
        "\n",
        "    # Solicitar las notas de las tres materias\n",
        "    try:\n",
        "        matematicas = float(input(\"Nota de Matemáticas: \"))\n",
        "        ciencia = float(input(\"Nota de Ciencia: \"))\n",
        "        lenguaje = float(input(\"Nota de Lenguaje: \"))\n",
        "        if not (0 <= matematicas <= 5) or not (0 <= ciencia <= 5) or not (0 <= lenguaje <= 5):\n",
        "            print(\"Error: Las notas deben estar entre 0 y 5.\")\n",
        "            return\n",
        "        promedio = (matematicas + ciencia + lenguaje) / 3\n",
        "        print(f\"\\nPromedio de las tres notas de {nombre} es: {promedio:.2f}\")\n",
        "        print(f\"\\nEl rendimiento de {nombre} es:\")\n",
        "        mensaje = evaluar_rendimiento(promedio)\n",
        "        print(mensaje)\n",
        "        return promedio\n",
        "\n",
        "    except ValueError:\n",
        "        print(\"Error: Por favor ingrese valores numéricos válidos para las notas.\")\n",
        "\n",
        "\n",
        "# Función para guardar las notas y resultados en un archivo de texto\n",
        "def guardar_resultados(nombre, notas, resultado):\n",
        "    with open(\"resultados_estudiantes.txt\", \"a\") as file:\n",
        "        file.write(f\"Estudiante: {nombre}\\n\")\n",
        "        file.write(f\"Notas: {notas}\\n\")\n",
        "        file.write(f\"Resultado: {resultado}\\n\")\n",
        "        file.write(\"-\" * 40 + \"\\n\")  # Separador para que los resultados sean legibles\n",
        "\n",
        "\n",
        "# Ejecutar el programa\n",
        "if __name__ == \"__main__\":\n",
        "    promedio = main()\n",
        "    while True:\n",
        "      print(\"¿Desea ingresar otra Materia?\")\n",
        "      print(\"1. Si\")\n",
        "      print(\"2. No\")\n",
        "      opcion=int(input(\"Ingrese una opción:  \"))\n",
        "      if opcion==1:\n",
        "        Nueva_materia=input(\"Ingrese el nombre de la materia:  \")\n",
        "        Nueva=float(input(\"Ingrese la  nota:  \"))\n",
        "        if 0 <= Nueva <= 5:\n",
        "          print(f\"\\nLa nueva materia ingresada es: {Nueva_materia} con una nota de: {Nueva}\")\n",
        "          nuevo_promedio = (promedio + Nueva) / 2\n",
        "          print(f\"\\nEl nuevo promedio es: {nuevo_promedio:.2f}\")\n",
        "          mensaje = evaluar_rendimiento(nuevo_promedio)\n",
        "          print(f\"\\n Con una nota de: {Nueva}\")\n",
        "          nuevo_promedio=(Nueva+promedio)/2\n",
        "          print(f\"\\nEl nuevo promedio es: {nuevo_promedio}\")\n",
        "        else:\n",
        "          print(\"La nota ingresada no es válida.\")\n",
        "      elif opcion==2:\n",
        "        print(\"Gracias por usar el programa\")\n",
        "        break\n",
        "      else:\n",
        "        print(\"Opción inválida\")\n"
      ]
    }
  ]
}